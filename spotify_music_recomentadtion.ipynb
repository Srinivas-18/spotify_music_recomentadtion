{
  "nbformat": 4,
  "nbformat_minor": 0,
  "metadata": {
    "colab": {
      "provenance": []
    },
    "kernelspec": {
      "name": "python3",
      "display_name": "Python 3"
    },
    "language_info": {
      "name": "python"
    }
  },
  "cells": [
    {
      "cell_type": "code",
      "execution_count": null,
      "metadata": {
        "colab": {
          "base_uri": "https://localhost:8080/"
        },
        "id": "pNUw9VO_j7mP",
        "outputId": "c7a98611-775d-4d82-859a-37f2117ce426"
      },
      "outputs": [
        {
          "output_type": "stream",
          "name": "stdout",
          "text": [
            "Access token obtained successfully.\n"
          ]
        }
      ],
      "source": [
        "import requests\n",
        "import base64\n",
        "\n",
        "CLIENT_ID = '7d2df6c8c1b9435882308038dff6d342'\n",
        "CLIENT_SECRET = '3f647d4b8fa447e8b2be350438fdaa48'\n",
        "\n",
        "client_credentials = f\"{CLIENT_ID}:{CLIENT_SECRET}\"\n",
        "client_credentials_base64 = base64.b64encode(client_credentials.encode())\n",
        "\n",
        "token_url = 'https://accounts.spotify.com/api/token'\n",
        "headers = {\n",
        "    'Authorization': f'Basic {client_credentials_base64.decode()}'\n",
        "}\n",
        "data = {\n",
        "    'grant_type': 'client_credentials'\n",
        "}\n",
        "response = requests.post(token_url, data=data, headers=headers)\n",
        "\n",
        "if response.status_code == 200:\n",
        "    access_token = response.json()['access_token']\n",
        "    print(\"Access token obtained successfully.\")\n",
        "else:\n",
        "    print(\"Error obtaining access token.\")\n",
        "    exit()"
      ]
    },
    {
      "cell_type": "code",
      "source": [
        "\n",
        "import pandas as pd\n",
        "!pip install spotipy\n",
        "import spotipy\n",
        "from spotipy.oauth2 import SpotifyOAuth\n",
        "\n",
        "def get_trending_playlist_data(playlist_id, access_token):\n",
        "\n",
        "    sp = spotipy.Spotify(auth=access_token)\n",
        "\n",
        "    playlist_tracks = sp.playlist_tracks(playlist_id, fields='items(track(id, name, artists, album(id, name)))')\n",
        "\n",
        "    music_data = []\n",
        "    for track_info in playlist_tracks['items']:\n",
        "        track = track_info['track']\n",
        "        track_name = track['name']\n",
        "        artists = ', '.join([artist['name'] for artist in track['artists']])\n",
        "        album_name = track['album']['name']\n",
        "        album_id = track['album']['id']\n",
        "        track_id = track['id']\n",
        "\n",
        "\n",
        "        audio_features = sp.audio_features(track_id)[0] if track_id != 'Not available' else None\n",
        "\n",
        "\n",
        "        try:\n",
        "            album_info = sp.album(album_id) if album_id != 'Not available' else None\n",
        "            release_date = album_info['release_date'] if album_info else None\n",
        "        except:\n",
        "            release_date = None\n",
        "\n",
        "\n",
        "        try:\n",
        "            track_info = sp.track(track_id) if track_id != 'Not available' else None\n",
        "            popularity = track_info['popularity'] if track_info else None\n",
        "        except:\n",
        "            popularity = None\n",
        "\n",
        "\n",
        "        track_data = {\n",
        "            'Track Name': track_name,\n",
        "            'Artists': artists,\n",
        "            'Album Name': album_name,\n",
        "            'Album ID': album_id,\n",
        "            'Track ID': track_id,\n",
        "            'Popularity': popularity,\n",
        "            'Release Date': release_date,\n",
        "            'Duration (ms)': audio_features['duration_ms'] if audio_features else None,\n",
        "            'Explicit': track_info.get('explicit', None) if track_info else None,\n",
        "            'External URLs': track_info.get('external_urls', {}).get('spotify', None) if track_info else None,\n",
        "            'Danceability': audio_features['danceability'] if audio_features else None,\n",
        "            'Energy': audio_features['energy'] if audio_features else None,\n",
        "            'Key': audio_features['key'] if audio_features else None,\n",
        "            'Loudness': audio_features['loudness'] if audio_features else None,\n",
        "            'Mode': audio_features['mode'] if audio_features else None,\n",
        "            'Speechiness': audio_features['speechiness'] if audio_features else None,\n",
        "            'Acousticness': audio_features['acousticness'] if audio_features else None,\n",
        "            'Instrumentalness': audio_features['instrumentalness'] if audio_features else None,\n",
        "            'Liveness': audio_features['liveness'] if audio_features else None,\n",
        "            'Valence': audio_features['valence'] if audio_features else None,\n",
        "            'Tempo': audio_features['tempo'] if audio_features else None,\n",
        "\n",
        "        }\n",
        "\n",
        "        music_data.append(track_data)\n",
        "\n",
        "\n",
        "    df = pd.DataFrame(music_data)\n",
        "\n",
        "    return df"
      ],
      "metadata": {
        "colab": {
          "base_uri": "https://localhost:8080/"
        },
        "id": "2n1DLQzukgnR",
        "outputId": "e1d70a25-1e4e-4963-b4ff-0ef3cfcbc9a7"
      },
      "execution_count": null,
      "outputs": [
        {
          "output_type": "stream",
          "name": "stdout",
          "text": [
            "Collecting spotipy\n",
            "  Downloading spotipy-2.24.0-py3-none-any.whl.metadata (4.9 kB)\n",
            "Collecting redis>=3.5.3 (from spotipy)\n",
            "  Downloading redis-5.2.0-py3-none-any.whl.metadata (9.1 kB)\n",
            "Requirement already satisfied: requests>=2.25.0 in /usr/local/lib/python3.10/dist-packages (from spotipy) (2.32.3)\n",
            "Requirement already satisfied: urllib3>=1.26.0 in /usr/local/lib/python3.10/dist-packages (from spotipy) (2.2.3)\n",
            "Requirement already satisfied: async-timeout>=4.0.3 in /usr/local/lib/python3.10/dist-packages (from redis>=3.5.3->spotipy) (4.0.3)\n",
            "Requirement already satisfied: charset-normalizer<4,>=2 in /usr/local/lib/python3.10/dist-packages (from requests>=2.25.0->spotipy) (3.4.0)\n",
            "Requirement already satisfied: idna<4,>=2.5 in /usr/local/lib/python3.10/dist-packages (from requests>=2.25.0->spotipy) (3.10)\n",
            "Requirement already satisfied: certifi>=2017.4.17 in /usr/local/lib/python3.10/dist-packages (from requests>=2.25.0->spotipy) (2024.8.30)\n",
            "Downloading spotipy-2.24.0-py3-none-any.whl (30 kB)\n",
            "Downloading redis-5.2.0-py3-none-any.whl (261 kB)\n",
            "\u001b[2K   \u001b[90m━━━━━━━━━━━━━━━━━━━━━━━━━━━━━━━━━━━━━━━━\u001b[0m \u001b[32m261.4/261.4 kB\u001b[0m \u001b[31m6.9 MB/s\u001b[0m eta \u001b[36m0:00:00\u001b[0m\n",
            "\u001b[?25hInstalling collected packages: redis, spotipy\n",
            "Successfully installed redis-5.2.0 spotipy-2.24.0\n"
          ]
        }
      ]
    },
    {
      "cell_type": "code",
      "source": [
        "playlist_id = '7bUJaaksI2okk2ccSq0u2G'\n",
        "\n",
        "# Call the function to get the music data from the playlist and store it in a DataFrame\n",
        "music_df = get_trending_playlist_data(playlist_id, access_token)\n",
        "\n",
        "# Display the DataFrame\n",
        "print(music_df)"
      ],
      "metadata": {
        "colab": {
          "base_uri": "https://localhost:8080/"
        },
        "id": "bQQYKEiwlD8g",
        "outputId": "fa2456be-e1fb-4ca0-82a5-4fb6792b54b8"
      },
      "execution_count": null,
      "outputs": [
        {
          "output_type": "stream",
          "name": "stdout",
          "text": [
            "                  Track Name  \\\n",
            "0                Mari Antaga   \n",
            "1                Life Of Ram   \n",
            "2              Nee Prashnalu   \n",
            "3            Nammaka Tappani   \n",
            "4   Ee Kshnam Oke Oka Korika   \n",
            "..                       ...   \n",
            "95             Nammave Ammai   \n",
            "96                Alupannadi   \n",
            "97            Nenani Neevani   \n",
            "98  Nindu Noorella Version 2   \n",
            "99            Cheppave Prema   \n",
            "\n",
            "                                              Artists  \\\n",
            "0   Mickey J. Meyer, Sreerama Chandra, Sirivennela...   \n",
            "1                                       Pradeep Kumar   \n",
            "2                              S. P. Balasubrahmanyam   \n",
            "3                                    Sagar, Sumangaly   \n",
            "4                                       K. S. Chithra   \n",
            "..                                                ...   \n",
            "95                  Harish Raghavendra, K. S. Chithra   \n",
            "96                                      K. S. Chithra   \n",
            "97                                      Shweta Pandit   \n",
            "98                         Gopika Poornima, Kamalakar   \n",
            "99                                R. P. Patnaik, Usha   \n",
            "\n",
            "                            Album Name                Album ID  \\\n",
            "0   Seethamma Vakitlo Sirimalle Chettu  4nbsEScX6MTTXwXFU2nAbc   \n",
            "1                                Jaanu  76Gn7WA0mvH8Ke4yjGlveG   \n",
            "2                    Kothabangarulokam  4EWlRbJKBFFRulwfKK6tYp   \n",
            "3                           Bommarillu  2394D0vwxXW80JtLlYSuWj   \n",
            "4                         Ela Cheppanu  0l6W1goSvyQISG9VSUpGmw   \n",
            "..                                 ...                     ...   \n",
            "95                               Vaasu  6qOvN9Or0ozPp7K4a2sKqg   \n",
            "96                               Gayam  7i8KNxKH63yorR0QewmGOJ   \n",
            "97                   Kothabangarulokam  4EWlRbJKBFFRulwfKK6tYp   \n",
            "98                              Pranam  4Ws5I7NwaxQkn7zGll0cBg   \n",
            "99                    Manasantha Nuvve  5wuoYDeO8iW8dKcunM4GPu   \n",
            "\n",
            "                  Track ID  Popularity Release Date  Duration (ms)  Explicit  \\\n",
            "0   1VBvgXzwESW9V7DXXGSiwm          54   2012-12-16         225953     False   \n",
            "1   0i5KYCaQs1xY7z9MWCFoXW          55   2020-01-21         364375     False   \n",
            "2   0II8bNccmnWMTkc0LHuROD          50   2008-08-30         265169     False   \n",
            "3   07D0H4cb2rlE0BDhvRtnhP          57   2006-08-14         272649     False   \n",
            "4   0rC1qIE6ZD3hqUExbvVvjn          43   2003-09-05         276663     False   \n",
            "..                     ...         ...          ...            ...       ...   \n",
            "95  3FMZjSpOkWKYdseNXB7zxh          31   2002-03-10         282619     False   \n",
            "96  6RnalZcp3Dpad8MVEg8D2I           0   2014-08-01         349100     False   \n",
            "97  5VxL1b7OOpc1m0n2eAiAoo          46   2008-08-30         309838     False   \n",
            "98  6Rb6rRCaVsZGNVYh6bpQti          43   2003-07-25         211400     False   \n",
            "99  0LdTY0ozNj0b7AVfWjKkpx          48   2001-09-01         317806     False   \n",
            "\n",
            "                                        External URLs  ...  Energy  Key  \\\n",
            "0   https://open.spotify.com/track/1VBvgXzwESW9V7D...  ...   0.532   11   \n",
            "1   https://open.spotify.com/track/0i5KYCaQs1xY7z9...  ...   0.559    4   \n",
            "2   https://open.spotify.com/track/0II8bNccmnWMTkc...  ...   0.483    0   \n",
            "3   https://open.spotify.com/track/07D0H4cb2rlE0BD...  ...   0.543    9   \n",
            "4   https://open.spotify.com/track/0rC1qIE6ZD3hqUE...  ...   0.665   11   \n",
            "..                                                ...  ...     ...  ...   \n",
            "95  https://open.spotify.com/track/3FMZjSpOkWKYdse...  ...   0.556    0   \n",
            "96  https://open.spotify.com/track/6RnalZcp3Dpad8M...  ...   0.499    9   \n",
            "97  https://open.spotify.com/track/5VxL1b7OOpc1m0n...  ...   0.386    4   \n",
            "98  https://open.spotify.com/track/6Rb6rRCaVsZGNVY...  ...   0.373    2   \n",
            "99  https://open.spotify.com/track/0LdTY0ozNj0b7AV...  ...   0.761    9   \n",
            "\n",
            "    Loudness  Mode  Speechiness  Acousticness  Instrumentalness  Liveness  \\\n",
            "0    -10.078     1       0.0341        0.6420          0.011200    0.1490   \n",
            "1     -8.829     0       0.0508        0.2100          0.000118    0.1160   \n",
            "2    -10.749     1       0.0860        0.0953          0.000000    0.2130   \n",
            "3     -8.418     0       0.0457        0.1300          0.000075    0.1040   \n",
            "4     -5.026     0       0.0318        0.3260          0.000003    0.1650   \n",
            "..       ...   ...          ...           ...               ...       ...   \n",
            "95    -9.624     1       0.1730        0.2670          0.000000    0.0301   \n",
            "96   -10.810     1       0.1170        0.7730          0.010500    0.0788   \n",
            "97   -10.574     1       0.0358        0.6930          0.000227    0.1440   \n",
            "98    -8.583     0       0.0331        0.3810          0.000009    0.1410   \n",
            "99    -3.975     0       0.0485        0.4770          0.000002    0.0934   \n",
            "\n",
            "    Valence    Tempo  \n",
            "0     0.800  117.027  \n",
            "1     0.388   90.009  \n",
            "2     0.360   87.884  \n",
            "3     0.307   89.995  \n",
            "4     0.612  123.943  \n",
            "..      ...      ...  \n",
            "95    0.905  132.980  \n",
            "96    0.177  165.417  \n",
            "97    0.278  134.957  \n",
            "98    0.469  139.891  \n",
            "99    0.410   94.402  \n",
            "\n",
            "[100 rows x 21 columns]\n"
          ]
        }
      ]
    },
    {
      "cell_type": "code",
      "source": [
        "print(music_df.isnull().sum())"
      ],
      "metadata": {
        "colab": {
          "base_uri": "https://localhost:8080/"
        },
        "id": "Y0pCTq-mlp6M",
        "outputId": "be16d1b4-6773-414c-ec08-4b3d574b5d03"
      },
      "execution_count": null,
      "outputs": [
        {
          "output_type": "stream",
          "name": "stdout",
          "text": [
            "Track Name          0\n",
            "Artists             0\n",
            "Album Name          0\n",
            "Album ID            0\n",
            "Track ID            0\n",
            "Popularity          0\n",
            "Release Date        0\n",
            "Duration (ms)       0\n",
            "Explicit            0\n",
            "External URLs       0\n",
            "Danceability        0\n",
            "Energy              0\n",
            "Key                 0\n",
            "Loudness            0\n",
            "Mode                0\n",
            "Speechiness         0\n",
            "Acousticness        0\n",
            "Instrumentalness    0\n",
            "Liveness            0\n",
            "Valence             0\n",
            "Tempo               0\n",
            "dtype: int64\n"
          ]
        }
      ]
    },
    {
      "cell_type": "code",
      "source": [
        "import pandas as pd\n",
        "import numpy as np\n",
        "from sklearn.model_selection import train_test_split\n",
        "from sklearn.preprocessing import MinMaxScaler\n",
        "from datetime import datetime\n",
        "from sklearn.metrics.pairwise import cosine_similarity\n",
        "\n",
        "data = music_df"
      ],
      "metadata": {
        "id": "Q4H2faGrl7AS"
      },
      "execution_count": null,
      "outputs": []
    },
    {
      "cell_type": "code",
      "source": [
        "def calculate_weighted_popularity(release_date):\n",
        "\n",
        "    release_date = datetime.strptime(release_date, '%Y-%m-%d')\n",
        "\n",
        "\n",
        "    time_span = datetime.now() - release_date\n",
        "\n",
        "\n",
        "    weight = 1 / (time_span.days + 1)\n",
        "    return weight"
      ],
      "metadata": {
        "id": "-z9A6tbumAix"
      },
      "execution_count": null,
      "outputs": []
    },
    {
      "cell_type": "code",
      "source": [
        "# Normalize the music features using Min-Max scaling\n",
        "scaler = MinMaxScaler()\n",
        "music_features = music_df[['Danceability', 'Energy', 'Key',\n",
        "                           'Loudness', 'Mode', 'Speechiness', 'Acousticness',\n",
        "                           'Instrumentalness', 'Liveness', 'Valence', 'Tempo']].values\n",
        "music_features_scaled = scaler.fit_transform(music_features)"
      ],
      "metadata": {
        "id": "xxo5vRb_mDWV"
      },
      "execution_count": null,
      "outputs": []
    },
    {
      "cell_type": "code",
      "source": [
        "def content_based_recommendations(input_song_name, num_recommendations=5):\n",
        "    if input_song_name not in music_df['Track Name'].values:\n",
        "        print(f\"'{input_song_name}' not found in the dataset. Please enter a valid song name.\")\n",
        "        return\n",
        "\n",
        "\n",
        "    input_song_index = music_df[music_df['Track Name'] == input_song_name].index[0]\n",
        "\n",
        "\n",
        "    similarity_scores = cosine_similarity([music_features_scaled[input_song_index]], music_features_scaled)\n",
        "\n",
        "\n",
        "    similar_song_indices = similarity_scores.argsort()[0][::-1][1:num_recommendations + 1]\n",
        "\n",
        "\n",
        "    content_based_recommendations = music_df.iloc[similar_song_indices][['Track Name', 'Artists', 'Album Name', 'Release Date', 'Popularity']]\n",
        "\n",
        "    return content_based_recommendations"
      ],
      "metadata": {
        "id": "k3lgXnV8mI_s"
      },
      "execution_count": null,
      "outputs": []
    },
    {
      "cell_type": "code",
      "source": [
        "import pandas as pd\n",
        "\n",
        "def hybrid_recommendations(input_song_name, num_recommendations=5, alpha=0.5):\n",
        "    if input_song_name not in music_df['Track Name'].values:\n",
        "        print(f\"'{input_song_name}' not found in the dataset. Please enter a valid song name.\")\n",
        "        return\n",
        "\n",
        "    content_based_rec = content_based_recommendations(input_song_name, num_recommendations)\n",
        "\n",
        "    popularity_score = music_df.loc[music_df['Track Name'] == input_song_name, 'Popularity'].values[0]\n",
        "\n",
        "    weighted_popularity_score = popularity_score * calculate_weighted_popularity(\n",
        "        music_df.loc[music_df['Track Name'] == input_song_name, 'Release Date'].values[0]\n",
        "    )\n",
        "\n",
        "    new_entry = pd.DataFrame({\n",
        "        'Track Name': [input_song_name],\n",
        "        'Artists': [music_df.loc[music_df['Track Name'] == input_song_name, 'Artists'].values[0]],\n",
        "        'Album Name': [music_df.loc[music_df['Track Name'] == input_song_name, 'Album Name'].values[0]],\n",
        "        'Release Date': [music_df.loc[music_df['Track Name'] == input_song_name, 'Release Date'].values[0]],\n",
        "        'Popularity': [weighted_popularity_score]\n",
        "    })\n",
        "\n",
        "    hybrid_recommendations = pd.concat([content_based_rec, new_entry], ignore_index=True)\n",
        "\n",
        "    hybrid_recommendations = hybrid_recommendations.sort_values(by='Popularity', ascending=False)\n",
        "\n",
        "    hybrid_recommendations = hybrid_recommendations[hybrid_recommendations['Track Name'] != input_song_name]\n",
        "\n",
        "    return hybrid_recommendations"
      ],
      "metadata": {
        "id": "odV7xHZhmOgS"
      },
      "execution_count": null,
      "outputs": []
    },
    {
      "source": [
        "import random\n",
        "\n",
        "input_song_name = random.choice(music_df['Track Name'].tolist())\n",
        "\n",
        "print(f\"Recommending songs similar to: {input_song_name}\")\n",
        "\n",
        "recommendations = hybrid_recommendations(input_song_name)\n",
        "\n",
        "print(recommendations)"
      ],
      "cell_type": "code",
      "metadata": {
        "colab": {
          "base_uri": "https://localhost:8080/"
        },
        "id": "Vw-AzVKsoSBm",
        "outputId": "da4392f2-c0d4-4322-d2ef-1d5ff39e292f"
      },
      "execution_count": 26,
      "outputs": [
        {
          "output_type": "stream",
          "name": "stdout",
          "text": [
            "Recommending songs similar to: Amma Brahma Devudo\n",
            "                  Track Name  \\\n",
            "1                Jalsa Jalsa   \n",
            "2            Bangaram Thechi   \n",
            "0              Nammave Ammai   \n",
            "4  Veyyinokka Jillala Varaku   \n",
            "3     Intikeldam Padavammo..   \n",
            "\n",
            "                                             Artists  \\\n",
            "1                      Baba Sehgal, Rita Thyagarajan   \n",
            "2                      Partha Sarathy, K. S. Chithra   \n",
            "0                  Harish Raghavendra, K. S. Chithra   \n",
            "4                             S. P. Balasubrahmanyam   \n",
            "3  S. P. Balasubrahmanyam, K. S. Chithra, Swarnal...   \n",
            "\n",
            "                                     Album Name Release Date  Popularity  \n",
            "1                                         Jalsa   2008-02-28        56.0  \n",
            "2                               Iddaru Mithrulu   1999-04-30        35.0  \n",
            "0                                         Vaasu   2002-03-10        31.0  \n",
            "4                                     Surya IPS   1991-07-19        24.0  \n",
            "3  Golden Hits Of Sirivennela Seetharama Sastry   2022-05-16        15.0  \n"
          ]
        }
      ]
    }
  ]
}